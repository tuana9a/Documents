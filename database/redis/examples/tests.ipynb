{
 "cells": [
  {
   "cell_type": "code",
   "execution_count": 2,
   "metadata": {},
   "outputs": [],
   "source": [
    "import redis\n",
    "import random\n",
    "import datetime\n",
    "\n",
    "hosts = [\n",
    "    \"vm1.bizflycloud.tuana9a.tech\",\n",
    "    # \"vm2.bizflycloud.tuana9a.tech\",\n",
    "    # \"vm3.bizflycloud.tuana9a.tech\",\n",
    "    # \"vm4.bizflycloud.tuana9a.tech\",\n",
    "]\n",
    "\n",
    "password = \"rXNYq+tpWo6u8i1MVYB42FnW4BmJ5rIisn/fPWv6a1RskK27n6mE16IKA078O+Vz\"\n",
    "\n",
    "out = \"\"\n",
    "\n",
    "for host in hosts:\n",
    "    out += host + \" \" + str(datetime.datetime.now()) + \"\\n\"\n",
    "    try:\n",
    "        r = redis.Redis(host=host, port=6379, password=password)\n",
    "\n",
    "        # temp = r.shutdown()\n",
    "        # temp = r.shutdown(save=True)\n",
    "        # temp = r.shutdown(nosave=True)\n",
    "\n",
    "        # temp = r.slaveof(None)\n",
    "        # temp = r.slaveof(\"vm3.bizflycloud.tuana9a.tech\", 6379)\n",
    "        # temp = r.slaveof(\"vm2.bizflycloud.tuana9a.tech\", 6379)\n",
    "        # temp = r.slaveof(\"vm1.bizflycloud.tuana9a.tech\", 6379)\n",
    "\n",
    "        temp = r.get(str(10))\n",
    "\n",
    "        # for i in range(1, 1000):\n",
    "        #     temp = r.set(str(i), str(random.randint(0, 1000000)))\n",
    "\n",
    "        # for i in range(1, 1000):\n",
    "        #     temp = r.delete(str(i))\n",
    "\n",
    "        out += str(temp) + \"\\n\"\n",
    "\n",
    "    except:\n",
    "        out += \"Error\\n\"\n",
    "        pass\n",
    "\n",
    "with open(file=\"temp.out\", mode=\"w\") as f:\n",
    "    f.write(out)\n"
   ]
  },
  {
   "cell_type": "code",
   "execution_count": 1,
   "metadata": {},
   "outputs": [
    {
     "name": "stdout",
     "output_type": "stream",
     "text": [
      "hello world\n"
     ]
    }
   ],
   "source": []
  }
 ],
 "metadata": {
  "interpreter": {
   "hash": "d106b3ac20157d3a4a1cf9b2cabb60dc5fabd9706ece0ee2bce9abd1aae1f837"
  },
  "kernelspec": {
   "display_name": "Python 3.8.10 64-bit ('.venv': venv)",
   "name": "python3"
  },
  "language_info": {
   "codemirror_mode": {
    "name": "ipython",
    "version": 3
   },
   "file_extension": ".py",
   "mimetype": "text/x-python",
   "name": "python",
   "nbconvert_exporter": "python",
   "pygments_lexer": "ipython3",
   "version": "3.8.10"
  },
  "orig_nbformat": 4
 },
 "nbformat": 4,
 "nbformat_minor": 2
}
